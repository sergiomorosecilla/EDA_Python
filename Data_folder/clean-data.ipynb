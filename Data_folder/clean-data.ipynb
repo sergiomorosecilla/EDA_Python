{
 "cells": [
  {
   "cell_type": "code",
   "execution_count": null,
   "id": "7c8ef16b",
   "metadata": {
    "vscode": {
     "languageId": "plaintext"
    }
   },
   "outputs": [],
   "source": [
    "dsdf"
   ]
  }
 ],
 "metadata": {
  "language_info": {
   "name": "python"
  }
 },
 "nbformat": 4,
 "nbformat_minor": 5
}
